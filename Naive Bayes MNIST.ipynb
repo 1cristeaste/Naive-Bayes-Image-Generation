{
 "cells": [
  {
   "cell_type": "markdown",
   "metadata": {
    "id": "MrQFeFh6eq1f"
   },
   "source": []
  },
  {
   "cell_type": "markdown",
   "metadata": {
    "id": "H1kRdfM6ol0R"
   },
   "source": [
    "# Naïve Bayes, A Generative Model"
   ]
  },
  {
   "cell_type": "markdown",
   "metadata": {
    "id": "Je6H8FAKpqmF"
   },
   "source": [
    "![](https://github.com/zalandoresearch/fashion-mnist/blob/master/doc/img/fashion-mnist-sprite.png?raw=true)\n",
    "\n",
    "\n",
    "For this project, I'll fit a Naïve Bayes model to the fashion MNIST dataset, and use this model for making predictions and generating new images from the same distribution. MNIST is a dataset of 28x28 black-and-white images of items of clothing. We represent each image by a vector $x^{(i)} \\in \\{0,1\\}^{784}$, where 0 and 1 represent white and black pixels respectively. Each class label $c^{(i)}$ is a different item of clothing, which in the code is represented by a 10-dimensional one-hot vector.\n",
    "\n",
    "The Naïve Bayes model parameterized by $\\theta$ and $\\pi$ defines the following joint probability of $x$ and $c$,\n",
    "$$p(x,c|\\theta,\\pi) = p(c|\\pi)p(x|c,\\theta) = p(c|\\pi)\\prod_{j=1}^{784}p(x_j|c,\\theta),$$\n",
    "where $x_j | c,\\theta \\sim \\operatorname{Bernoulli}(\\theta_{jc})$ or in other words $p(x_j | c,\\theta) = \\theta_{jc}^{x_j}(1-\\theta_{jc})^{1-x_j}$, and $c|\\pi$ follows a simple categorical distribution, i.e. $p(c|\\pi) = \\pi_c$.\n",
    "\n",
    "I begin by learning the parameters $\\theta$ and $\\pi$. The following code will download and prepare the training and test sets."
   ]
  },
  {
   "cell_type": "code",
   "execution_count": null,
   "metadata": {
    "id": "k587bbiSvhB4"
   },
   "outputs": [],
   "source": [
    "import numpy as np\n",
    "import os\n",
    "import gzip\n",
    "import struct\n",
    "import array\n",
    "import matplotlib.pyplot as plt\n",
    "import matplotlib.image\n",
    "from urllib.request import urlretrieve\n",
    "\n",
    "def download(url, filename):\n",
    "    if not os.path.exists('data'):\n",
    "        os.makedirs('data')\n",
    "    out_file = os.path.join('data', filename)\n",
    "    if not os.path.isfile(out_file):\n",
    "        urlretrieve(url, out_file)\n",
    "\n",
    "\n",
    "def fashion_mnist():\n",
    "    base_url = 'http://fashion-mnist.s3-website.eu-central-1.amazonaws.com/'\n",
    "\n",
    "    def parse_labels(filename):\n",
    "        with gzip.open(filename, 'rb') as fh:\n",
    "            magic, num_data = struct.unpack(\">II\", fh.read(8))\n",
    "            return np.array(array.array(\"B\", fh.read()), dtype=np.uint8)\n",
    "\n",
    "    def parse_images(filename):\n",
    "        with gzip.open(filename, 'rb') as fh:\n",
    "            magic, num_data, rows, cols = struct.unpack(\">IIII\", fh.read(16))\n",
    "            return np.array(array.array(\"B\", fh.read()), dtype=np.uint8).reshape(num_data, rows, cols)\n",
    "\n",
    "    for filename in ['train-images-idx3-ubyte.gz',\n",
    "                     'train-labels-idx1-ubyte.gz',\n",
    "                     't10k-images-idx3-ubyte.gz',\n",
    "                     't10k-labels-idx1-ubyte.gz']:\n",
    "        download(base_url + filename, filename)\n",
    "\n",
    "    train_images = parse_images('data/train-images-idx3-ubyte.gz')\n",
    "    train_labels = parse_labels('data/train-labels-idx1-ubyte.gz')\n",
    "    test_images = parse_images('data/t10k-images-idx3-ubyte.gz')\n",
    "    test_labels = parse_labels('data/t10k-labels-idx1-ubyte.gz')\n",
    "    # Remove the data point that cause log(0)\n",
    "    remove = (14926, 20348, 36487, 45128, 50945, 51163, 55023)\n",
    "    train_images = np.delete(train_images,remove, axis=0)\n",
    "    train_labels = np.delete(train_labels, remove, axis=0)\n",
    "    return train_images, train_labels, test_images[:1000], test_labels[:1000]\n",
    "\n",
    "\n",
    "def load_fashion_mnist():\n",
    "    partial_flatten = lambda x: np.reshape(x, (x.shape[0], np.prod(x.shape[1:])))\n",
    "    one_hot = lambda x, k: np.array(x[:, None] == np.arange(k)[None, :], dtype=int)\n",
    "    train_images, train_labels, test_images, test_labels =  fashion_mnist()\n",
    "    train_images = (partial_flatten(train_images) / 255.0 > .5).astype(float)\n",
    "    test_images = (partial_flatten(test_images) / 255.0 > .5).astype(float)\n",
    "    train_labels = one_hot(train_labels, 10)\n",
    "    test_labels = one_hot(test_labels, 10)\n",
    "    N_data = train_images.shape[0]\n",
    "\n",
    "    return N_data, train_images, train_labels, test_images, test_labels"
   ]
  },
  {
   "cell_type": "markdown",
   "metadata": {
    "id": "qgGhDuEBvuMI"
   },
   "source": [
    "## Expression for the Maximum Likelihood Estimator"
   ]
  },
  {
   "cell_type": "markdown",
   "metadata": {
    "id": "cISpi3BUOdEp"
   },
   "source": [
    "\n",
    "\n",
    "\n",
    "Where N is the number of images,\n",
    "\n",
    "$$p(x_i|x_Ε, Θ, \\pi) = ∏^N_i(\\pi_c \\prod^{784}_j θ_{jc}^{x_{ij}}(1-θ_{jc})^{x_{ij}})$$\n",
    "\n",
    "$$log(p(x_i|x_Ε, Θ, \\pi)) = log(∏^N_i(\\pi_c \\prod^{784}_j θ_{jc}^{x_{ij}}(1-θ_{jc})^{x_{ij}}))$$\n",
    "\n",
    "$$ ∑^N_i (∑^{784}_j (x_{ij}logθ_{jc} + (1-x_{ji})log(1-θ_{jc})) + log(\\pi c)$$\n",
    "\n",
    "Theta:\n",
    "\n",
    "$$ \\frac{\\partial}{\\partial x} : ∑^N_i (\\frac{∑x_i}{θ_{jc}} - \\frac{784 - ∑^{784}x_{ij}}{1-θ_{jc}}) $$\n",
    "\n",
    "$$  θ_{jc} = ∑^N_i(\\frac{1}{784} ∑^{784}_j x_i)$$\n",
    "\n",
    "Pi: \n",
    "\n",
    "$$\\pi_c = \\frac{∑^N_i x_i}{N}$$\n"
   ]
  },
  {
   "cell_type": "markdown",
   "metadata": {
    "id": "gTMSP01Sw-F5"
   },
   "source": [
    "## Maximum A Posteriori\n",
    "Using the MLE for this data, many entries of $\\theta$ will be estimated to be 0, which seems extreme. So I look for another estimation method.\n",
    "\n",
    "I assume the prior distribution of $\\theta$ is such that the entries are i.i.d. and drawn from $\\operatorname{Beta}(2,2)$ and derive the Maximum A Posteriori (MAP) estimator for $\\theta$ (it has a simple final form)."
   ]
  },
  {
   "cell_type": "code",
   "execution_count": null,
   "metadata": {
    "id": "v49Abi0uxeII"
   },
   "outputs": [],
   "source": [
    "def train_map_estimator(train_images, train_labels):\n",
    "    \"\"\" Inputs: train_images (N_samples x N_features), train_labels (N_samples x N_classes)\n",
    "        Returns the MAP estimator theta_est (N_features x N_classes) and the MLE\n",
    "        estimator pi_est (N_classes)\"\"\"\n",
    "\n",
    "    new_array = []\n",
    "  \n",
    "\n",
    "    for i in range(len(train_labels.T)):\n",
    "      x = train_images[train_labels.T[i].astype(bool)]\n",
    "      map = (np.sum(x, axis = 0) + 1) / (len(x) + 2)\n",
    "      new_array.append(map)\n",
    "\n",
    "    new_array = np.stack(new_array, axis=0)\n",
    "    theta_est = new_array.T\n",
    "    pi_est = np.sum(train_labels, axis = 0) / len(train_labels)\n",
    "\n",
    "    return theta_est, pi_est\n",
    "    \n"
   ]
  },
  {
   "cell_type": "markdown",
   "source": [
    "## Log Likliehood\n",
    "I derived an expression for the class log-likelihood $\\log p(c|x,\\theta,\\pi)$ for a single image. Then, I completed the implementation of the following functions. Recall that our prediction rule is to choose the class that maximizes the above log-likelihood, and accuracy is defined as the fraction of samples that are correctly predicted.\n"
   ],
   "metadata": {
    "collapsed": false
   }
  },
  {
   "cell_type": "code",
   "execution_count": null,
   "metadata": {
    "colab": {
     "base_uri": "https://localhost:8080/"
    },
    "id": "6RZwBnVh0Zoo",
    "outputId": "fabfc13a-2865-481b-9026-68e1b627c4f6"
   },
   "outputs": [
    {
     "output_type": "stream",
     "name": "stdout",
     "text": [
      "Average log-likelihood for MAP is -285.334\n",
      "Training accuracy for MAP is 0.651\n",
      "Test accuracy for MAP is 0.638\n"
     ]
    }
   ],
   "source": [
    "def log_likelihood(images, theta, pi):\n",
    "    \"\"\" Inputs: images (N_samples x N_features), theta, pi\n",
    "        Returns the matrix 'log_like' of loglikehoods over the input images where\n",
    "        log_like[i,c] = log p (c |x^(i), theta, pi) using the estimators theta and pi.\n",
    "        log_like is a matrix of (N_samples x N_classes)\n",
    "    Note that log likelihood is not only for c^(i), it is for all possible c's.\"\"\"\n",
    "    # x - 60,000 x 784\n",
    "\n",
    "    logpi = np.log(pi) #1 x 10 \n",
    "    logtheta = np.log(theta) # 784 x 10\n",
    "    x = np.dot(images, logtheta) # 60,000 x 10\n",
    "    y = 1 - images # 60,000 x 784\n",
    "    z = np.log(1-theta) # 784 x 10\n",
    "    a = np.dot(y, z)\n",
    "    log_like = x + a + logpi\n",
    "\n",
    "    return log_like # 60,000 x 10 \n",
    " \n",
    "\n",
    "\n",
    "def accuracy(log_like, labels):\n",
    "    \"\"\" Inputs: matrix of log likelihoods and 1-of-K labels (N_samples x N_classes)\n",
    "    Returns the accuracy based on predictions from log likelihood values\"\"\"\n",
    "    \n",
    "    correct = 0 \n",
    "\n",
    "    for i in range(len(log_like)):\n",
    "      max_log = np.argmax(log_like[i])\n",
    "      max_lab = np.argmax(labels[i])\n",
    "      if max_log == max_lab:\n",
    "        correct += 1\n",
    "    \n",
    "    return correct/len(log_like)\n",
    "    \n",
    "\n",
    "\n",
    "N_data, train_images, train_labels, test_images, test_labels = load_fashion_mnist()\n",
    "\n",
    "theta_est, pi_est = train_map_estimator(train_images, train_labels)\n",
    "\n",
    "\n",
    "loglike_train = log_likelihood(train_images, theta_est, pi_est)\n",
    "avg_loglike = np.sum(loglike_train * train_labels) / N_data\n",
    "train_accuracy = accuracy(loglike_train, train_labels)\n",
    "loglike_test = log_likelihood(test_images, theta_est, pi_est)\n",
    "\n",
    "\n",
    "test_accuracy = accuracy(loglike_test, test_labels)\n",
    "\n",
    "print(f\"Average log-likelihood for MAP is {avg_loglike:.3f}\")\n",
    "print(f\"Training accuracy for MAP is {train_accuracy:.3f}\")\n",
    "print(f\"Test accuracy for MAP is {test_accuracy:.3f}\")"
   ]
  },
  {
   "cell_type": "code",
   "execution_count": null,
   "metadata": {
    "id": "amV0qFMC3myy",
    "colab": {
     "base_uri": "https://localhost:8080/",
     "height": 178
    },
    "outputId": "0b13f5c3-b0fe-4026-bca8-194137b70096"
   },
   "outputs": [
    {
     "output_type": "display_data",
     "data": {
      "text/plain": [
       "<Figure size 432x288 with 1 Axes>"
      ],
      "image/png": "[encoded data removed]"
     },
     "metadata": {}
    }
   ],
   "source": [
    "def image_sampler(theta, pi, num_images):\n",
    "    \"\"\" Inputs: parameters theta and pi, and number of images to sample\n",
    "    Returns the sampled images (N_images x N_features)\"\"\"\n",
    "\n",
    "    #df = np.zeros((num_images, 784))\n",
    "    rows, cols = (num_images, 784)\n",
    "    lists = [[0 for i in range(cols)] for j in range(rows)]\n",
    "\n",
    "    for i in range(num_images):\n",
    "      sample = np.random.choice(10, 1, p = pi)\n",
    "      t = theta.T[sample]  # 784 x 10\n",
    "      \n",
    "\n",
    "      for j in range(784):\n",
    "        #df[i][j] = fun(t)\n",
    "    \n",
    "        \n",
    "        b = np.random.choice(2, 1, p = [(1-t[0][j]), t[0][j]])\n",
    "        lists[i][j] = b\n",
    "        \n",
    "        \n",
    "    return np.stack(lists, axis=0)\n",
    "\n",
    "\n",
    "def plot_images(images, ims_per_row=5, padding=5, image_dimensions=(28, 28),\n",
    "                cmap=matplotlib.cm.binary, vmin=0., vmax=1.):\n",
    "    \"\"\"Images should be a (N_images x pixels) matrix.\"\"\"\n",
    "    fig = plt.figure(1)\n",
    "    fig.clf()\n",
    "    ax = fig.add_subplot(111)\n",
    "\n",
    "    N_images = images.shape[0]\n",
    "    N_rows = np.int32(np.ceil(float(N_images) / ims_per_row))\n",
    "    pad_value = vmin\n",
    "    concat_images = np.full(((image_dimensions[0] + padding) * N_rows + padding,\n",
    "                             (image_dimensions[1] + padding) * ims_per_row + padding), pad_value)\n",
    "    for i in range(N_images):\n",
    "        cur_image = np.reshape(images[i, :], image_dimensions)\n",
    "        row_ix = i // ims_per_row\n",
    "        col_ix = i % ims_per_row\n",
    "        row_start = padding + (padding + image_dimensions[0]) * row_ix\n",
    "        col_start = padding + (padding + image_dimensions[1]) * col_ix\n",
    "        concat_images[row_start: row_start + image_dimensions[0],\n",
    "                      col_start: col_start + image_dimensions[1]] = cur_image\n",
    "        cax = ax.matshow(concat_images, cmap=cmap, vmin=vmin, vmax=vmax)\n",
    "        plt.xticks(np.array([]))\n",
    "        plt.yticks(np.array([]))\n",
    "    \n",
    "    plt.plot()\n",
    "\n",
    "\n",
    "sampled_images = image_sampler(theta_est, pi_est, 10)\n",
    "plot_images(sampled_images)"
   ]
  },
  {
   "cell_type": "markdown",
   "metadata": {
    "id": "qCYQ6VVx5YI5"
   },
   "source": [
    "## Assuming some pixels are observed\n",
    "One of the advantages of generative models is that they can handle missing data, or be used to answer different sorts of questions about the model. Here, I assume we have observed some pixels of the image. Let $x_E = \\{x_p : \\text{pixel $p$ is observed}\\}$."
   ]
  },
  {
   "cell_type": "markdown",
   "metadata": {
    "id": "GGT2yAtLOmJW"
   },
   "source": [
    "\n",
    "$$p(X_j | X_E, Θ, π) = \\frac{p(X_j, X_E |Θ, π)}{p(X_E|Θ, π)}$$\n",
    "\n",
    "\n",
    "$$ = \\frac{∑_C p(X_j, X_E|Θ, π, C)}{∑_C p(X_E| Θ, π, C)}$$ by marginalization over c\n",
    "$$= \\frac{∑_C p(X_j|Θ, π, C)  p(X_E|Θ, π, C)p(C | π)}{∑_C p(X_E| Θ, π, C)p(C|π)}$$\n",
    "where $p(X_j, X_E|Θ, π, C)$ and $p(X_E|Θ, π, C)$ follow ~Bern($Θ$)\n"
   ]
  },
  {
   "cell_type": "markdown",
   "metadata": {
    "id": "5qGf4Rwx6ZPy"
   },
   "source": [
    "## Sampling\n",
    "I assume that only 30% of the pixels are observed. For the first 20 images in the training set, I plot the images when the unobserved pixels are left as white, as well as the same images when the unobserved pixels are filled with the marginal probability of the pixel being 1 given the observed pixels, i.e. the value of the unobserved pixel $j$ is $p(x_j = 1|x_E,\\theta,\\pi)$."
   ]
  },
  {
   "cell_type": "code",
   "execution_count": null,
   "metadata": {
    "id": "k8g40hvw6pE_",
    "colab": {
     "base_uri": "https://localhost:8080/",
     "height": 255
    },
    "outputId": "70dd070e-9033-428b-beed-0b64477abb84"
   },
   "outputs": [
    {
     "output_type": "display_data",
     "data": {
      "text/plain": [
       "<Figure size 432x288 with 1 Axes>"
      ],
      "image/png": "[encoded data removed]"
     },
     "metadata": {}
    }
   ],
   "source": [
    "def probabilistic_imputer(theta, pi, original_images, is_observed):\n",
    "    \"\"\"Inputs: parameters theta and pi, original_images (N_images x N_features), \n",
    "        and is_observed which has the same shape as original_images, with a value\n",
    "        1. in every observed entry and 0. in every unobserved entry.\n",
    "    Returns the new images where unobserved pixels are replaced by their \n",
    "    conditional probability\"\"\"\n",
    " \n",
    "    new_images = []\n",
    "\n",
    "    for idx_image, image in enumerate(original_images):\n",
    "      new_image = [0] * 784\n",
    "      obs = [i for i in range(len(is_observed[idx_image])) if is_observed[idx_image].T[i] == 1]\n",
    "      un_obs = [i for i in range(len(is_observed[idx_image])) if is_observed[idx_image].T[i] == 0]\n",
    "\n",
    "      for idx_pixel, pixel in enumerate(image):\n",
    "        if idx_pixel in obs:\n",
    "          new_image[idx_pixel] = image[idx_pixel]\n",
    "        else:\n",
    "          denom = [0] * 10 \n",
    "          numer = [0] * 10\n",
    "          for c in range(10):\n",
    "            unobserved_pixel =  bernoulli.pmf(image[idx_pixel], theta[idx_pixel][c])\n",
    "            observed_pixels = np.prod(bernoulli.pmf(image[obs], theta[obs, c]))\n",
    "            denom[c] = observed_pixels * pi[c]\n",
    "            numer[c] = unobserved_pixel * observed_pixels * pi[c]           \n",
    "          new_image[idx_pixel] = 1 - (sum(numer)/sum(denom))\n",
    "      \n",
    "      \n",
    "      new_images.append(new_image)\n",
    "    return np.stack(new_images, axis=0)\n",
    "  \n",
    "    \n",
    "num_features = train_images.shape[1]\n",
    "is_observed = np.random.binomial(1, p=0.3, size=(20, num_features))\n",
    "plot_images(train_images[:20] * is_observed)"
   ]
  },
  {
   "cell_type": "code",
   "source": [
    "from google.colab import drive\n",
    "drive.mount('/content/drive')"
   ],
   "metadata": {
    "colab": {
     "base_uri": "https://localhost:8080/"
    },
    "id": "QoP0YdGzc8gv",
    "outputId": "97ef0572-36e1-47e0-8dd4-43fa6a60192c"
   },
   "execution_count": null,
   "outputs": [
    {
     "output_type": "stream",
     "name": "stdout",
     "text": [
      "Mounted at /content/drive\n"
     ]
    }
   ]
  },
  {
   "cell_type": "code",
   "execution_count": null,
   "metadata": {
    "id": "RtOM8Ba4uVQj",
    "colab": {
     "base_uri": "https://localhost:8080/",
     "height": 255
    },
    "outputId": "2e1918d3-473b-4b3d-d340-ce3dda692617"
   },
   "outputs": [
    {
     "output_type": "display_data",
     "data": {
      "text/plain": [
       "<Figure size 432x288 with 1 Axes>"
      ],
      "image/png": "[encoded data removed]"
     },
     "metadata": {}
    }
   ],
   "source": [
    "imputed_images = probabilistic_imputer(theta_est, pi_est, train_images[:20], is_observed)\n",
    "plot_images(imputed_images)"
   ]
  }
 ],
 "metadata": {
  "colab": {
   "provenance": [],
   "toc_visible": true
  },
  "kernelspec": {
   "display_name": "Python 3",
   "name": "python3"
  },
  "language_info": {
   "name": "python"
  }
 },
 "nbformat": 4,
 "nbformat_minor": 0
}
